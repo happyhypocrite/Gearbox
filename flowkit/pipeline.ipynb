{
 "cells": [
  {
   "cell_type": "code",
   "execution_count": null,
   "metadata": {},
   "outputs": [],
   "source": [
    "import bokeh\n",
    "from bokeh.plotting import show\n",
    "import flowkit as fk"
   ]
  },
  {
   "cell_type": "code",
   "execution_count": 2,
   "metadata": {},
   "outputs": [
    {
     "data": {
      "text/plain": [
       "'1.2.3'"
      ]
     },
     "execution_count": 2,
     "metadata": {},
     "output_type": "execute_result"
    }
   ],
   "source": [
    "fk.__version__"
   ]
  },
  {
   "cell_type": "code",
   "execution_count": 3,
   "metadata": {},
   "outputs": [],
   "source": [
    "path_to_qc_fcs = \"C:\\\\Users\\\\rufus\\\\OneDrive - The University of Manchester\\\\PDRA\\\\Sequencing\\\\Py scripts\\\\Projects\\\\ImmAcc\\\\gearbox_data\\\\Batch_fcsdump\\\\resultsQC\\\\fcs_files_postqc\"\n",
    "\n",
    "b1_to_b6_samples = fk.load_samples(path_to_qc_fcs)"
   ]
  },
  {
   "cell_type": "code",
   "execution_count": null,
   "metadata": {},
   "outputs": [],
   "source": [
    "gml_path = '' #path to the Gating ML 2.0 file\n",
    "gating_strat = fk.parse_gating_xml(gml_path)"
   ]
  },
  {
   "cell_type": "code",
   "execution_count": null,
   "metadata": {},
   "outputs": [],
   "source": [
    "session = fk.Session(gating_strategy=gml_path, fcs_samples=path_to_qc_fcs)\n",
    "sample_list = session.get_sample_ids()\n",
    "sample_list\n",
    "print(session.get_gate_hierarchy())"
   ]
  },
  {
   "cell_type": "code",
   "execution_count": null,
   "metadata": {},
   "outputs": [],
   "source": [
    "gating_heir = gating_strat.get_gate_hierarchy(output='ascii') # this gets the gating heirarchy\n",
    "print(gating_heir) "
   ]
  },
  {
   "cell_type": "code",
   "execution_count": null,
   "metadata": {},
   "outputs": [],
   "source": [
    "# now apply gaiting strategy to all samples\n",
    "for sample in b1_to_b6_samples: \n",
    "    gs_results = gating_strat.gate_sample(sample, verbose=True)"
   ]
  }
 ],
 "metadata": {
  "kernelspec": {
   "display_name": ".venv",
   "language": "python",
   "name": "python3"
  },
  "language_info": {
   "codemirror_mode": {
    "name": "ipython",
    "version": 3
   },
   "file_extension": ".py",
   "mimetype": "text/x-python",
   "name": "python",
   "nbconvert_exporter": "python",
   "pygments_lexer": "ipython3",
   "version": "3.9.12"
  }
 },
 "nbformat": 4,
 "nbformat_minor": 2
}
